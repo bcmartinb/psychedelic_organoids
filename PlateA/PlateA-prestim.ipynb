{
 "cells": [
  {
   "cell_type": "code",
   "execution_count": 1,
   "id": "e1f706ef-63ea-4637-ba36-fe1a8ec3e67e",
   "metadata": {},
   "outputs": [
    {
     "data": {
      "text/plain": [
       "'\\nDescription\\nAuthor: David Brin\\nDate created 9/19/24\\n\\nThis notebook uses \"General_LFP_analysis_functions.py\" for all imports and functions necessary for analysis. \\nThis notebook shows the raw and fitted power spectra from preprocessed LFP recordings, spatial spike activity along with active windows,\\nand the raw and fitted spectra of active windows, along with the distribution and variation of aperiodic and peak parameters. \\n'"
      ]
     },
     "execution_count": 1,
     "metadata": {},
     "output_type": "execute_result"
    }
   ],
   "source": [
    "'''\n",
    "Description\n",
    "Author: David Brin\n",
    "Date created 9/19/24\n",
    "\n",
    "This notebook uses \"General_LFP_analysis_functions.py\" for all imports and functions necessary for analysis. \n",
    "This notebook shows the raw and fitted power spectra from preprocessed LFP recordings, spatial spike activity along with active windows,\n",
    "and the raw and fitted spectra of active windows, along with the distribution and variation of aperiodic and peak parameters. \n",
    "'''"
   ]
  },
  {
   "cell_type": "code",
   "execution_count": 1,
   "id": "f7204fef-c2ec-435d-918d-adb6fe4e1287",
   "metadata": {},
   "outputs": [
    {
     "name": "stderr",
     "output_type": "stream",
     "text": [
      "C:\\Users\\david\\Documents\\Voytek Research\\psychedelic_organoids\\General_LFP_analysis_functions.py:50: DeprecationWarning: \n",
      "The `fooof` package is being deprecated and replaced by the `specparam` (spectral parameterization) package.\n",
      "This version of `fooof` (1.1) is fully functional, but will not be further updated.\n",
      "New projects are recommended to update to using `specparam` (see Changelog for details).\n",
      "  from fooof import FOOOF\n"
     ]
    }
   ],
   "source": [
    "%run \"./A_LFP_analysis_functions.py\""
   ]
  },
  {
   "cell_type": "code",
   "execution_count": 3,
   "id": "1ffd5a3f-1639-4474-a85a-ae8cb074b5f8",
   "metadata": {},
   "outputs": [
    {
     "ename": "SyntaxError",
     "evalue": "invalid syntax (647027147.py, line 2)",
     "output_type": "error",
     "traceback": [
      "\u001b[1;36m  Cell \u001b[1;32mIn[3], line 2\u001b[1;36m\u001b[0m\n\u001b[1;33m    spike_times =\u001b[0m\n\u001b[1;37m                  ^\u001b[0m\n\u001b[1;31mSyntaxError\u001b[0m\u001b[1;31m:\u001b[0m invalid syntax\n"
     ]
    }
   ],
   "source": [
    "lfp_data = load_lfp(r\"C:\\Users\\david\\Documents\\Voytek Research\\LFP_psych_proj\\PlateA\\PlateA_D0\\prestim_lfp_data.h5\")\n",
    "spike_times = "
   ]
  },
  {
   "cell_type": "code",
   "execution_count": null,
   "id": "62e0a4a5-a4cf-4c72-8a88-6b17461e3668",
   "metadata": {},
   "outputs": [],
   "source": []
  }
 ],
 "metadata": {
  "kernelspec": {
   "display_name": "Python 3 (ipykernel)",
   "language": "python",
   "name": "python3"
  },
  "language_info": {
   "codemirror_mode": {
    "name": "ipython",
    "version": 3
   },
   "file_extension": ".py",
   "mimetype": "text/x-python",
   "name": "python",
   "nbconvert_exporter": "python",
   "pygments_lexer": "ipython3",
   "version": "3.12.0"
  }
 },
 "nbformat": 4,
 "nbformat_minor": 5
}
