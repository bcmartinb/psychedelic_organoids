{
 "cells": [
  {
   "cell_type": "code",
   "execution_count": null,
   "id": "e1f706ef-63ea-4637-ba36-fe1a8ec3e67e",
   "metadata": {},
   "outputs": [],
   "source": [
    "'''\n",
    "Description\n",
    "Author: David Brin\n",
    "Date created 5/28/25\n",
    "\n",
    "This notebook uses \"General_LFP_analysis_functions.py\" for all imports and functions necessary for analysis. \n",
    "This notebook shows the raw and fitted power spectra from preprocessed LFP recordings, spatial spike activity along with active windows,\n",
    "and the raw and fitted spectra of active windows, along with the distribution and variation of aperiodic and peak parameters. \n",
    "'''"
   ]
  },
  {
   "cell_type": "code",
   "execution_count": null,
   "id": "f7204fef-c2ec-435d-918d-adb6fe4e1287",
   "metadata": {},
   "outputs": [],
   "source": [
    "%run \"../General_LFP_analysis_functions.py\""
   ]
  },
  {
   "cell_type": "code",
   "execution_count": null,
   "id": "1ffd5a3f-1639-4474-a85a-ae8cb074b5f8",
   "metadata": {},
   "outputs": [],
   "source": [
    "lfp_data = load_lfp(r\"C:\\Users\\david\\Documents\\Voytek Research\\LFP_psych_proj\\PlateAngela\\Oct21-24\\lfp_data.h5\")\n",
    "spike_times = load_spikes(r\"C:\\Users\\david\\Documents\\Voytek Research\\LFP_psych_proj\\PlateAngeOct21-24\\spike_data.mat\")"
   ]
  },
  {
   "cell_type": "markdown",
   "id": "f5cdd89f-0795-4b4f-904c-b59a38e56223",
   "metadata": {},
   "source": [
    "## Full power spectra"
   ]
  },
  {
   "cell_type": "code",
   "execution_count": null,
   "id": "62e0a4a5-a4cf-4c72-8a88-6b17461e3668",
   "metadata": {},
   "outputs": [],
   "source": [
    " plot_all_pspectra(lfp_data)"
   ]
  },
  {
   "cell_type": "code",
   "execution_count": null,
   "id": "0dfdb287-677f-435b-b52e-73bfac014761",
   "metadata": {
    "scrolled": true
   },
   "outputs": [],
   "source": [
    "fooof_all_pspectra(lfp_data, fs_ds = 100, fmode = \"fixed\")"
   ]
  },
  {
   "cell_type": "code",
   "execution_count": null,
   "id": "cb2d275e-2e06-457f-a2fa-6345297c4ab9",
   "metadata": {},
   "outputs": [],
   "source": []
  },
  {
   "cell_type": "markdown",
   "id": "91d99af8-cc1f-405c-b7f5-16e7f228a599",
   "metadata": {},
   "source": [
    "## Spike Activity"
   ]
  },
  {
   "cell_type": "markdown",
   "id": "1c48b1cc-8e3f-47cc-9827-3826cbc84d9d",
   "metadata": {},
   "source": [
    "### Spacial activity"
   ]
  },
  {
   "cell_type": "code",
   "execution_count": null,
   "id": "338918bb-2d4e-44fe-b55d-12cc77b66643",
   "metadata": {},
   "outputs": [],
   "source": [
    "spike_spacial_visualization(spike_times)"
   ]
  },
  {
   "cell_type": "code",
   "execution_count": null,
   "id": "2eb7dba6-ea3e-46d2-9585-ac7807648ee5",
   "metadata": {},
   "outputs": [],
   "source": [
    " spike_threshold_vis(spike_times)"
   ]
  },
  {
   "cell_type": "markdown",
   "id": "55a7c86b-2902-4ba0-bb93-bdbadab01407",
   "metadata": {},
   "source": [
    "### Temporal activity"
   ]
  },
  {
   "cell_type": "code",
   "execution_count": null,
   "id": "618047fd-8e0a-4257-814c-f8ebd368a4aa",
   "metadata": {
    "scrolled": true
   },
   "outputs": [],
   "source": [
    "find_and_plot_active_spike_windows(spike_times, 100, threshold = 10)"
   ]
  },
  {
   "cell_type": "code",
   "execution_count": null,
   "id": "f6562882-abd8-4822-9c13-85d0fecd16e9",
   "metadata": {
    "scrolled": true
   },
   "outputs": [],
   "source": [
    "spike_times_by_well = spikes_by_well(spike_times)\n",
    "binary_activity = plot_num_spikes_hist(spike_times_by_well, 100, num_windows = 6, threshold = 300) \n",
    "#plots histogram of windows above 300 spikes and creates binary_activity"
   ]
  },
  {
   "cell_type": "markdown",
   "id": "2c785f7f-7fd0-4cfb-b15e-b4cb81d8026c",
   "metadata": {},
   "source": [
    "## Windowed analysis"
   ]
  },
  {
   "cell_type": "code",
   "execution_count": null,
   "id": "6266267a-2579-4101-a0fb-2fcd9bfdbf85",
   "metadata": {
    "scrolled": true
   },
   "outputs": [],
   "source": [
    "fooof_wind_thresh(binary_activity, lfp_data, 100, fmode = \"fixed\")"
   ]
  },
  {
   "cell_type": "code",
   "execution_count": null,
   "id": "0bbe50b2-85ef-4f10-822e-b270e6e90337",
   "metadata": {
    "scrolled": true
   },
   "outputs": [],
   "source": [
    "ndsp_wind_thresh(binary_activity, lfp_data, 100)"
   ]
  },
  {
   "cell_type": "markdown",
   "id": "c701a2d8-28f0-4ecb-9a29-785173d28ea1",
   "metadata": {},
   "source": [
    "## Variation of FoooF Parameters"
   ]
  },
  {
   "cell_type": "code",
   "execution_count": null,
   "id": "3f81ce31-a158-4f71-b5d3-36343600b330",
   "metadata": {
    "scrolled": true
   },
   "outputs": [],
   "source": [
    "fm_array = set_fm_array(lfp_data, fmode = 'fixed')"
   ]
  },
  {
   "cell_type": "code",
   "execution_count": null,
   "id": "201734ba-2b4b-4488-adea-3fcf4e8b816f",
   "metadata": {
    "scrolled": true
   },
   "outputs": [],
   "source": [
    "param_heatmap(fm_array, fmode = \"fixed\")"
   ]
  },
  {
   "cell_type": "code",
   "execution_count": null,
   "id": "cdb4bf2c-c658-4bb4-ace6-a0a65826753e",
   "metadata": {},
   "outputs": [],
   "source": [
    "dose_grid = np.array([\n",
    "    [\"Blank\", \"Blank\", \"Met\", \"Met\", \"20uM\", \"20uM\", \"10uM\", \"10uM\"],\n",
    "    [\"Blank\", \"Blank\", \"Met\", \"Met\", \"20uM\", \"20uM\", \"10uM\", \"10uM\"],\n",
    "    [\"Blank\", \"Blank\", \"Met\", \"Met\", \"20uM\", \"20uM\", \"10uM\", \"10uM\"],\n",
    "    [\"Blank\", \"Blank\", \"Met\", \"Met\", \"20uM\", \"20uM\", \"10uM\", \"10uM\"],\n",
    "    [\"Blank\", \"Blank\", \"Met\", \"Met\", \"20uM\", \"20uM\", \"10uM\", \"10uM\"],\n",
    "    [\"Blank\", \"Blank\", \"Met\", \"Met\", \"20uM\", \"20uM\", \"10uM\", \"10uM\"],\n",
    "    ])"
   ]
  },
  {
   "cell_type": "code",
   "execution_count": null,
   "id": "ea3ec44c-f0e8-4bef-9e67-442ca0ce4b18",
   "metadata": {
    "scrolled": true
   },
   "outputs": [],
   "source": [
    "plot_variability(fm_array, dose_grid, fmode = \"fixed\")"
   ]
  },
  {
   "cell_type": "code",
   "execution_count": null,
   "id": "1c2a9c86-b522-45e4-97b2-b1e11fbb2c26",
   "metadata": {},
   "outputs": [],
   "source": [
    "plot_aperiodic_boxplot(fm_array,  dose_grid, fmode = \"fixed\")"
   ]
  },
  {
   "cell_type": "code",
   "execution_count": null,
   "id": "f151365d-b55f-4a44-b3b9-7a733470b8f2",
   "metadata": {
    "scrolled": true
   },
   "outputs": [],
   "source": [
    " plot_peak_boxplot(fm_array)"
   ]
  },
  {
   "cell_type": "code",
   "execution_count": null,
   "id": "9977f3be-a905-4480-b615-15a8e6ed0b97",
   "metadata": {
    "scrolled": true
   },
   "outputs": [],
   "source": [
    "plot_peak_binary_heatmap(fm_array)"
   ]
  },
  {
   "cell_type": "code",
   "execution_count": null,
   "id": "0f4d541b-07dc-4264-a293-5af0f0fa9d64",
   "metadata": {},
   "outputs": [],
   "source": []
  }
 ],
 "metadata": {
  "kernelspec": {
   "display_name": "Python (myenv)",
   "language": "python",
   "name": "myenv"
  },
  "language_info": {
   "codemirror_mode": {
    "name": "ipython",
    "version": 3
   },
   "file_extension": ".py",
   "mimetype": "text/x-python",
   "name": "python",
   "nbconvert_exporter": "python",
   "pygments_lexer": "ipython3",
   "version": "3.12.0"
  }
 },
 "nbformat": 4,
 "nbformat_minor": 5
}
