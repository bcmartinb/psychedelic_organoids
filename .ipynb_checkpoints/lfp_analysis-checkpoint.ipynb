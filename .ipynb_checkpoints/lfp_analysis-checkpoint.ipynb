{
 "cells": [
  {
   "cell_type": "code",
   "execution_count": 109,
   "id": "9937caf5-088a-44d8-b15d-c04c29779777",
   "metadata": {},
   "outputs": [],
   "source": [
    "import matlab.engine \n",
    "import os\n",
    "import scipy.io\n",
    "import h5py\n",
    "import math\n",
    "import matplotlib.pyplot as plt\n",
    "import numpy as np\n",
    "import pickle\n",
    "from progressbar import ProgressBar\n",
    "import scipy as sp\n",
    "from neurodsp.filt import filter_signal\n",
    "from scipy.signal import butter, filtfilt\n",
    "from scipy.signal import find_peaks"
   ]
  },
  {
   "cell_type": "code",
   "execution_count": 110,
   "id": "acfc96c1-2ad3-4618-b5c4-cbe654993a22",
   "metadata": {},
   "outputs": [],
   "source": [
    "fs = 12500\n",
    "fs_ds = 100 # Maestro downsampled frequency\n"
   ]
  },
  {
   "cell_type": "code",
   "execution_count": 111,
   "id": "a12fb9c5-29f2-46f7-b726-0bef84903d00",
   "metadata": {},
   "outputs": [],
   "source": [
    "directory = '/Users/blancamartin/Desktop/LFP_org_psychedelics/Extracted_Data/'\n"
   ]
  },
  {
   "cell_type": "code",
   "execution_count": 115,
   "id": "0b9073f8-b65d-4e7c-bb8d-a7a4ad15b804",
   "metadata": {},
   "outputs": [],
   "source": [
    "# Loop through all files in the directory\n",
    "dict_wells = {}\n",
    "for filename in os.listdir(directory):\n",
    "    # Check if the file is an HDF5 file\n",
    "    if filename.endswith('.h5'):\n",
    "        # Open the HDF5 file\n",
    "        with h5py.File(os.path.join(directory, filename), 'r') as file:\n",
    "            #extract well ID \n",
    "            # Extract well ID from the filename\n",
    "            well_id = filename.split('_')[-1].split('.')[0]  # Extracts the part after 'well' and before '.h5'\n",
    "        \n",
    "            # List all datasets in the file\n",
    "            dataset_names = list(file.keys())\n",
    "            \n",
    "            # Access datasets \n",
    "            for dataset_name in dataset_names:\n",
    "                dataset = file[dataset_name]\n",
    "              \n",
    "                data = dataset[:]\n",
    "                # Store data for the current well in the dictionary - this data is already downsampled to 100hz in the Maestro machine :/ \n",
    "                dict_wells[well_id] = data[0].reshape(4, 4, -1)\n",
    "                "
   ]
  },
  {
   "cell_type": "markdown",
   "id": "3d384b2a-460e-46b7-b7e0-67e4d544f126",
   "metadata": {},
   "source": [
    "#### Sanity check length of recording"
   ]
  },
  {
   "cell_type": "code",
   "execution_count": 130,
   "id": "e3d587cf-f864-454e-a215-bd3525ae064e",
   "metadata": {},
   "outputs": [
    {
     "name": "stdout",
     "output_type": "stream",
     "text": [
      "Length of recording in minutes:  10.6375\n"
     ]
    }
   ],
   "source": [
    "test_leng = dict_wells['wellC5'][0][0]\n",
    "print(\"Length of recording in minutes: \", str(len(test)/fs_ds/60))"
   ]
  },
  {
   "cell_type": "code",
   "execution_count": null,
   "id": "c067bbdd-0758-41ec-9069-ae2657401de7",
   "metadata": {},
   "outputs": [],
   "source": []
  }
 ],
 "metadata": {
  "kernelspec": {
   "display_name": "Python 3 (ipykernel)",
   "language": "python",
   "name": "python3"
  },
  "language_info": {
   "codemirror_mode": {
    "name": "ipython",
    "version": 3
   },
   "file_extension": ".py",
   "mimetype": "text/x-python",
   "name": "python",
   "nbconvert_exporter": "python",
   "pygments_lexer": "ipython3",
   "version": "3.9.7"
  }
 },
 "nbformat": 4,
 "nbformat_minor": 5
}
